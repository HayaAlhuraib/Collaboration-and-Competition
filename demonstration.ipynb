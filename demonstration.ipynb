{
  "cells": [
    {
      "cell_type": "markdown",
      "metadata": {
        "id": "xdoUK3rfT6ap"
      },
      "source": [
        "# Trained agent\n",
        "\n",
        "\n",
        "---\n",
        "Import the packages"
      ]
    },
    {
      "cell_type": "code",
      "execution_count": null,
      "metadata": {
        "id": "2QcEgQ5ET6as"
      },
      "outputs": [],
      "source": [
        "import random\n",
        "import torch\n",
        "import numpy as np\n",
        "from collections import deque\n",
        "from unityagents import UnityEnvironment\n",
        "from collab_and_comp.agent import Agent\n",
        "import matplotlib.pyplot as plt\n",
        "%matplotlib inline"
      ]
    },
    {
      "cell_type": "markdown",
      "metadata": {
        "id": "341LXUKET6at"
      },
      "source": [
        "Call the environment"
      ]
    },
    {
      "cell_type": "code",
      "execution_count": null,
      "metadata": {
        "id": "BydLElMmT6au",
        "outputId": "d4286319-15bc-4f3c-b908-97a0e66ba8a0"
      },
      "outputs": [
        {
          "name": "stderr",
          "output_type": "stream",
          "text": [
            "INFO:unityagents:\n",
            "'Academy' started successfully!\n",
            "Unity Academy name: Academy\n",
            "        Number of Brains: 1\n",
            "        Number of External Brains : 1\n",
            "        Lesson number : 0\n",
            "        Reset Parameters :\n",
            "\t\t\n",
            "Unity brain name: TennisBrain\n",
            "        Number of Visual Observations (per agent): 0\n",
            "        Vector Observation space type: continuous\n",
            "        Vector Observation space size (per agent): 8\n",
            "        Number of stacked Vector Observation: 3\n",
            "        Vector Action space type: continuous\n",
            "        Vector Action space size (per agent): 2\n",
            "        Vector Action descriptions: , \n"
          ]
        }
      ],
      "source": [
        "env = UnityEnvironment(file_name=\"Tennis/Tennis.exe\")"
      ]
    },
    {
      "cell_type": "code",
      "execution_count": null,
      "metadata": {
        "id": "yCkReknGT6au"
      },
      "outputs": [],
      "source": [
        "\n",
        "brain_name = env.brain_names[0]\n",
        "brain = env.brains[brain_name]"
      ]
    },
    {
      "cell_type": "markdown",
      "metadata": {
        "id": "KZJh9eSFT6au"
      },
      "source": [
        "Create a new agent"
      ]
    },
    {
      "cell_type": "code",
      "execution_count": null,
      "metadata": {
        "id": "mPvxXryIT6av"
      },
      "outputs": [],
      "source": [
        "agent = Agent(state_size=24, action_size=2, random_seed=0)"
      ]
    },
    {
      "cell_type": "markdown",
      "metadata": {
        "id": "ekVH2F2YT6av"
      },
      "source": [
        "Load the saved weights"
      ]
    },
    {
      "cell_type": "code",
      "execution_count": null,
      "metadata": {
        "id": "iXx4TAZhT6av",
        "outputId": "c73030a7-03e0-4fc7-9d95-e9876dd1f2da"
      },
      "outputs": [
        {
          "data": {
            "text/plain": [
              "<All keys matched successfully>"
            ]
          },
          "execution_count": 5,
          "metadata": {},
          "output_type": "execute_result"
        }
      ],
      "source": [
        "agent.actor_local.load_state_dict(torch.load('weights/checkpoint_actor.pth'))"
      ]
    },
    {
      "cell_type": "code",
      "execution_count": null,
      "metadata": {
        "id": "7pavByXGT6aw"
      },
      "outputs": [],
      "source": [
        "env_info = env.reset(train_mode=False)[brain_name]\n",
        "states = env_info.vector_observations  # check current states\n",
        "agent.reset()\n",
        "for _ in range(3):\n",
        "    for t in range(3000):\n",
        "        actions = agent.act(states)\n",
        "        env_info = env.step(actions)[brain_name]      # execute the selected actions and save the new information\n",
        "        next_states = env_info.vector_observations    # get the result\n",
        "        dones = env_info.local_done                   # check whether episodes have finished\n",
        "        states = next_states\n",
        "        if np.any(dones):\n",
        "            break\n",
        "env.close()"
      ]
    }
  ],
  "metadata": {
    "kernelspec": {
      "display_name": "drlnd",
      "language": "python",
      "name": "drlnd"
    },
    "language_info": {
      "codemirror_mode": {
        "name": "ipython",
        "version": 3
      },
      "file_extension": ".py",
      "mimetype": "text/x-python",
      "name": "python",
      "nbconvert_exporter": "python",
      "pygments_lexer": "ipython3",
      "version": "3.6.10"
    },
    "colab": {
      "provenance": []
    }
  },
  "nbformat": 4,
  "nbformat_minor": 0
}